{
 "cells": [
  {
   "cell_type": "code",
   "execution_count": 97,
   "id": "52a0f4f9-6683-4ff1-a913-1dace9e93b4f",
   "metadata": {},
   "outputs": [],
   "source": [
    "import pyttsx3\n",
    "import speech_recognition as sr\n",
    "import webbrowser\n",
    "import datetime\n",
    "import pywhatkit\n",
    "import os\n",
    "import yfinance as yf\n",
    "import pyjokes\n",
    "#!pip install pipwin\n",
    "#!pipwin install pyaudio\n",
    "\n",
    "import wikipedia"
   ]
  },
  {
   "cell_type": "code",
   "execution_count": 13,
   "id": "b9689ad6-b110-4b12-a979-87b1af34567e",
   "metadata": {},
   "outputs": [],
   "source": [
    "#listen to our microphone and return the audio as text using Google\n",
    "\n",
    "def transform():\n",
    "    # r is a recognizer which recognize our voice\n",
    "    r = sr.Recognizer()\n",
    "    # When we collected our speaking words by Microphone, then turn them into a source\n",
    "    with sr.Microphone() as source:\n",
    "        #Wait time to listen= 0.8(s)\n",
    "        r.pause_threshold = 0.8\n",
    "        #store our words into a variable \"said\"\n",
    "        said = r.listen(source)\n",
    "        #Prevent the recognizer don't work :>\n",
    "        try:\n",
    "            print('I am listening...')\n",
    "            # Using Google to recognize language\n",
    "            catch_audio = r.recognize_google(said, language=\"en\")\n",
    "            #print(f'You said: {catch_audio}')\n",
    "            return catch_audio\n",
    "        except sr.UnknownValueError:\n",
    "            print(\"Sorry, I did not understand...\")\n",
    "            return \"I am waiting...\"\n",
    "        except sr.RequestError:\n",
    "            print(\"Sorry the service is down\")\n",
    "            return \"I am waiting...\"\n",
    "        except:\n",
    "            return \"I am waiting...\""
   ]
  },
  {
   "cell_type": "code",
   "execution_count": 14,
   "id": "f010a9be-20e5-4fe7-abea-2ea6f301cf86",
   "metadata": {},
   "outputs": [
    {
     "name": "stdout",
     "output_type": "stream",
     "text": [
      "I am listening...\n"
     ]
    },
    {
     "data": {
      "text/plain": [
       "'hello'"
      ]
     },
     "execution_count": 14,
     "metadata": {},
     "output_type": "execute_result"
    }
   ],
   "source": [
    "transform()"
   ]
  },
  {
   "cell_type": "code",
   "execution_count": 113,
   "id": "2d6e02eb-6922-4510-9f6d-da470f2eea89",
   "metadata": {},
   "outputs": [],
   "source": [
    "#Assissant is speaking to us!!\n",
    "def speaking(message):\n",
    "    engine = pyttsx3.init()\n",
    "    print(message)\n",
    "    engine.say(message)\n",
    "    engine.runAndWait()\n",
    "\n",
    "#speaking( 'hello' )"
   ]
  },
  {
   "cell_type": "code",
   "execution_count": 18,
   "id": "25a605ca-e68c-41ca-90ba-2a353f072423",
   "metadata": {
    "collapsed": true,
    "jupyter": {
     "outputs_hidden": true
    },
    "tags": []
   },
   "outputs": [
    {
     "name": "stdout",
     "output_type": "stream",
     "text": [
      "<Voice id=HKEY_LOCAL_MACHINE\\SOFTWARE\\Microsoft\\Speech\\Voices\\Tokens\\TTS_MS_EN-US_DAVID_11.0\n",
      "          name=Microsoft David Desktop - English (United States)\n",
      "          languages=[]\n",
      "          gender=None\n",
      "          age=None>\n",
      "<Voice id=HKEY_LOCAL_MACHINE\\SOFTWARE\\Microsoft\\Speech\\Voices\\Tokens\\TTS_MS_EN-US_ZIRA_11.0\n",
      "          name=Microsoft Zira Desktop - English (United States)\n",
      "          languages=[]\n",
      "          gender=None\n",
      "          age=None>\n"
     ]
    }
   ],
   "source": [
    "engine = pyttsx3.init()\n",
    "for voice in engine.getProperty('voices'):\n",
    "    print(voice)"
   ]
  },
  {
   "cell_type": "code",
   "execution_count": 19,
   "id": "efb412e9-c902-4d26-b718-213ab98bb6d0",
   "metadata": {},
   "outputs": [],
   "source": [
    "#change assisstant's voice\n",
    "id= 'HKEY_LOCAL_MACHINE\\SOFTWARE\\Microsoft\\Speech\\Voices\\Tokens\\TTS_MS_EN-US_ZIRA_11.0'\n",
    "engine.setProperty('voice', id )\n",
    "engine.say('Hello World')\n",
    "engine.runAndWait()"
   ]
  },
  {
   "cell_type": "code",
   "execution_count": 84,
   "id": "5cfa0073-253e-4c31-bb39-952f9a83da52",
   "metadata": {},
   "outputs": [],
   "source": [
    "#return the weekday name\n",
    "\n",
    "def query_day():\n",
    "    day = datetime.date.today()\n",
    "    weekday = day.weekday()\n",
    "    mapping = {\n",
    "        0:'Monday',1:'Tuesday',2:'Wednesday',3:'Thursday',4:'Friday',5:'Saturday',6:'Sunday'\n",
    "    }\n",
    "    try:\n",
    "        speaking(f'Today is {mapping[weekday]}')\n",
    "    except:\n",
    "        pass\n",
    "    "
   ]
  },
  {
   "cell_type": "code",
   "execution_count": 35,
   "id": "b8075bde-ba62-4ebe-925d-fd9d16084347",
   "metadata": {
    "tags": []
   },
   "outputs": [
    {
     "name": "stdout",
     "output_type": "stream",
     "text": [
      "2021-10-12\n",
      "1\n"
     ]
    }
   ],
   "source": [
    "query_day()"
   ]
  },
  {
   "cell_type": "code",
   "execution_count": 73,
   "id": "e0dbc037-3eff-4956-8ba7-b480803ffdce",
   "metadata": {},
   "outputs": [],
   "source": [
    "#returns the time\n",
    "def query_time():\n",
    "    time = datetime.datetime.now().strftime(\"%I:%M:%S\")\n",
    "    speaking(f\" { time[1] } o'clock and { time[3:5] }  minutes \")\n",
    "    "
   ]
  },
  {
   "cell_type": "code",
   "execution_count": 74,
   "id": "57785e43-17f8-4f8f-b8e7-c288fa325391",
   "metadata": {},
   "outputs": [],
   "source": [
    "query_time()"
   ]
  },
  {
   "cell_type": "code",
   "execution_count": 77,
   "id": "b316c3e6-e9f7-4ca1-8d33-c9cd59d5d8c8",
   "metadata": {},
   "outputs": [],
   "source": [
    "#Intro greeting at startup\n",
    "def whatsup():\n",
    "    speaking('''\n",
    "    Hi, I am ZIRA. I am your personal assistant.\n",
    "    How can i help you?\n",
    "    ''')"
   ]
  },
  {
   "cell_type": "code",
   "execution_count": 76,
   "id": "287f21c4-61e6-402b-800d-8de39b174fc4",
   "metadata": {},
   "outputs": [],
   "source": [
    "whatsup()"
   ]
  },
  {
   "cell_type": "code",
   "execution_count": 111,
   "id": "7e25d871-87b0-4b03-9686-e2f3ac8e230a",
   "metadata": {},
   "outputs": [],
   "source": [
    "#the heart of our assistant. Takes queries and return answer\n",
    "def querying():\n",
    "    whatsup()\n",
    "    start = True\n",
    "    while(start):\n",
    "        catch_audio = transform().lower()\n",
    "        \n",
    "        if 'open youtube' in catch_audio:\n",
    "            speaking('opening youtube for you. Just a second. Lazy head!')\n",
    "            webbrowser.open('https://www.youtube.com')\n",
    "            continue\n",
    "            \n",
    "        elif 'open google' in catch_audio:\n",
    "            speaking('opening google for you. Just a second. O M G Jesus!')\n",
    "            webbrowser.open('https://www.google.com')\n",
    "            continue\n",
    "        \n",
    "        elif 'what day is it' in catch_audio:\n",
    "            query_day()\n",
    "            continue\n",
    "            \n",
    "        elif 'what time is it' in catch_audio:\n",
    "            query_time()\n",
    "            continue\n",
    "        \n",
    "        elif 'shut down' in catch_audio:\n",
    "            speaking('OK Goodbye')\n",
    "            break\n",
    "        \n",
    "        elif 'from wikipedia' in catch_audio:\n",
    "            speaking('I am searching on wikipedia. Ok. Wait a sec.')\n",
    "            catch_audio = catch_audio.replace('wikipedia', '')\n",
    "            result = wikipedia.summary(catch_audio, sentences = 3)\n",
    "            speaking('Found it on wikipedia. Sound silly. Here is your result: ')\n",
    "            speaking(result)\n",
    "            continue\n",
    "            \n",
    "        elif 'your name' in catch_audio:\n",
    "            speaking('I am Zira. Your Super Cute Voice Assistant.')\n",
    "            continue\n",
    "        \n",
    "        elif 'search web' in catch_audio:\n",
    "            pywhatkit.search(catch_audio)\n",
    "            speaking(\"That is what i found\")\n",
    "            continue\n",
    "        \n",
    "        elif 'play' in catch_audio:\n",
    "            speaking(f'playing {catch_audio}')\n",
    "            pywhatkit.playonyt(catch_audio)\n",
    "            continue\n",
    "        \n",
    "        elif 'say joke' in catch_audio:\n",
    "            speaking(pyjokes.get_joke())\n",
    "            continue\n",
    "            \n",
    "        elif 'stock price' in catch_audio:\n",
    "            search = catch_audio.split('of')[-1].strip()\n",
    "            lookup = {\n",
    "                'apple': 'AAPL',\n",
    "                'amazon': 'AMZN',\n",
    "                'google': 'GOOGL'\n",
    "            }\n",
    "            try:\n",
    "                stock = lookup[search]\n",
    "                stock = yf.Ticker(stock)\n",
    "                currentprice = stock.info['regularMarketPrice']\n",
    "                speaking(f'Found it, the price for {search} is {currentprice}.')\n",
    "                continue\n",
    "            except:\n",
    "                speaking(f'Sorry, i have no data for {search}')\n",
    "            continue\n",
    "                \n",
    "            \n",
    "        \n",
    "    "
   ]
  },
  {
   "cell_type": "code",
   "execution_count": 112,
   "id": "86ad3585-3587-4288-a582-eafe87e9e27c",
   "metadata": {},
   "outputs": [
    {
     "name": "stdout",
     "output_type": "stream",
     "text": [
      "I am listening...\n",
      "I am listening...\n",
      "I am listening...\n",
      "I am listening...\n",
      "Sorry, I did not understand...\n",
      "I am listening...\n",
      "Sorry, I did not understand...\n",
      "I am listening...\n",
      "I am listening...\n",
      "Sorry, I did not understand...\n",
      "I am listening...\n",
      "I am listening...\n",
      "Sorry, I did not understand...\n",
      "I am listening...\n",
      "Sorry, I did not understand...\n",
      "I am listening...\n",
      "Sorry, I did not understand...\n",
      "I am listening...\n"
     ]
    }
   ],
   "source": [
    "querying()"
   ]
  },
  {
   "cell_type": "code",
   "execution_count": null,
   "id": "3f810679-be8c-43a3-92cd-47bb7d363c4e",
   "metadata": {},
   "outputs": [],
   "source": []
  },
  {
   "cell_type": "code",
   "execution_count": null,
   "id": "63ca7c43-fa20-44de-8780-7194b69c65d7",
   "metadata": {},
   "outputs": [],
   "source": []
  },
  {
   "cell_type": "code",
   "execution_count": null,
   "id": "b14b9f75-ce72-4023-a5e8-065760da3a53",
   "metadata": {},
   "outputs": [],
   "source": []
  },
  {
   "cell_type": "code",
   "execution_count": null,
   "id": "553c4c6b-1acf-4ba7-b307-0a8e3f0da06a",
   "metadata": {},
   "outputs": [],
   "source": []
  }
 ],
 "metadata": {
  "kernelspec": {
   "display_name": "Python 3 (ipykernel)",
   "language": "python",
   "name": "python3"
  },
  "language_info": {
   "codemirror_mode": {
    "name": "ipython",
    "version": 3
   },
   "file_extension": ".py",
   "mimetype": "text/x-python",
   "name": "python",
   "nbconvert_exporter": "python",
   "pygments_lexer": "ipython3",
   "version": "3.9.6"
  }
 },
 "nbformat": 4,
 "nbformat_minor": 5
}
